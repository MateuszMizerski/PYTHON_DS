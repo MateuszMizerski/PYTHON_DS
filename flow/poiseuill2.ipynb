{
 "cells": [
  {
   "cell_type": "code",
   "execution_count": 1,
   "metadata": {},
   "outputs": [],
   "source": [
    "from __future__ import division\n",
    "import numpy as np\n",
    "import matplotlib.pyplot as plt\n",
    "from mpl_toolkits import mplot3d\n",
    "import matplotlib.cm as cm\n",
    "import random\n",
    "import math \n",
    "import mpmath as mp\n",
    "\n",
    "\n",
    "def Poiseuille(Q):\n",
    "    N1 = 80 #indeks 0 tablicy odpowiada -40\n",
    "    N2 = 250\n",
    "    Fi = np.zeros([N2,N1])\n",
    "    Fi_N = np.zeros([N2,N1])\n",
    "    W = np.zeros([N2,N1])#wirowosc\n",
    "    W_N = np.zeros([N2,N1])\n",
    "    dz = np.float64(0.01)\n",
    "    y1 = -0.4\n",
    "    y2 = 0.4\n",
    "    mi = 1.0\n",
    "    y = 0.0\n",
    "    \n",
    "    \n",
    "    #war brzegowe    \n",
    "    for i in range (0,N2):\n",
    "        y = y2\n",
    "        Fi[i][N1-1] = Q/2.0/mi*((y**3)/3.0+(y**2)/2.0*(y1+y2)+y1*y2*y)\n",
    "        \n",
    "    for j in range (1,N1-1):\n",
    "        y = j*dz + y1\n",
    "        Fi[0][j] = Q/2.0/mi*((y**3)/3.0+(y**2)/2.0*(y1+y2)+y1*y2*y)\n",
    "        Fi[N2-1][j] = Q/2.0/mi*((y**3)/3.0+(y**2)/2.0*(y1+y2)+y1*y2*y)\n",
    "        \n",
    "        \n",
    "    for i in range (95,106):\n",
    "        y = y1\n",
    "        Fi[i][50] = Q/2.0/mi*((y**3)/3.0+(y**2)/2.0*(y1+y2)+y1*y2*y)\n",
    "    \n",
    "    for i in range (0,95):\n",
    "        y = y1\n",
    "        Fi[i][0] = Q/2.0/mi*((y**3)/3.0+(y**2)/2.0*(y1+y2)+y1*y2*y)\n",
    "    \n",
    "    for i in range (106,N2):\n",
    "        y = y1\n",
    "        Fi[i][0] = Q/2.0/mi*((y**3)/3.0+(y**2)/2.0*(y1+y2)+y1*y2*y)\n",
    "        \n",
    "    \n",
    "    for j in range (0,51):\n",
    "        y = y1\n",
    "        Fi[95][j] = Q/2.0/mi*((y**3)/3.0+(y**2)/2.0*(y1+y2)+y1*y2*y)\n",
    "        Fi[105][j] = Q/2.0/mi*((y**3)/3.0+(y**2)/2.0*(y1+y2)+y1*y2*y)\n",
    "    \n",
    "        \n",
    "    for i in range (0,N2):\n",
    "        W[i][N1-1] = 2*(Fi[i][N1-2]-Fi[i][N1-1])/dz**2\n",
    "        W[i][0] = 2*(Fi[i][1]-Fi[i][0])/dz**2\n",
    "\n",
    "    \n",
    "        \n",
    "    Fi_N = Fi\n",
    "    W_N = W\n",
    "    #50\n",
    "    \n",
    "    for p in range (0,10000):\n",
    "        \n",
    "        for i in range (0,N2):\n",
    "            W[i][N1-1] = 2.0*(Fi[i][N1-2]-Fi[i][N1-1])/dz**2\n",
    "                       \n",
    "\n",
    "        for j in range (0,50):\n",
    "            W[95][j] = 2.0*(Fi[94][j]-Fi[95][j])/dz**2\n",
    "            W[105][j] = 2.0*(Fi[106][j]-Fi[105][j])/dz**2\n",
    "        \n",
    "        for i in range (96,105):\n",
    "            W[i][50] = 2.0*(Fi[i][51]-Fi[i][50])/dz**2\n",
    "    \n",
    "        for i in range (0,95):\n",
    "            W[i][0] = 2.0*(Fi[i][1]-Fi[i][0])/dz**2\n",
    "\n",
    "        for i in range (106,N2):\n",
    "            y = y1\n",
    "            W[i][0] = 2.0*(Fi[i][1]-Fi[i][0])/dz**2\n",
    "        \n",
    "        W[95][50] = 0.5*(W[94][50]+W[95][51])\n",
    "        W[105][50] = 0.5*(W[106][50]+W[105][51])\n",
    "        \n",
    "        Fi_N = Fi\n",
    "        W_N = W\n",
    "        for i in range (1,N2-1):\n",
    "            for j in range (1,N1-1):\n",
    "                if (i>=95 and i<=105 and j<=50):\n",
    "                    Fi_N[i][j] = Fi[i][j]\n",
    "                else:\n",
    "                    pom = np.float64(0.0)\n",
    "                    Fi_N[i][j] = (Fi[i+1][j]+Fi[i-1][j]+Fi[i][j-1]+Fi[i][j+1] - W[i][j]*(dz**2))/4.0\n",
    "                    pom = (W[i+1][j]+W[i-1][j]+W[i][j-1]+W[i][j+1])/4.0\n",
    "                    pom = pom - ((Fi[i][j+1]-Fi[i][j-1])*(W[i+1][j]-W[i-1][j])-(Fi[i+1][j]-Fi[i-1][j])*(W[i][j+1]-W[i][j-1]))/16.0\n",
    "                    W_N[i][j] = pom\n",
    "        Fi=Fi_N\n",
    "        W = W_N\n",
    "        \n",
    "\n",
    "    print(\"END\")\n",
    "    return Fi"
   ]
  },
  {
   "cell_type": "code",
   "execution_count": 2,
   "metadata": {},
   "outputs": [],
   "source": [
    "def velocity_map(Fi,Q):\n",
    "    N1 = 80\n",
    "    N2 = 250\n",
    "    U = np.zeros([N2,N1])\n",
    "    V = np.zeros([N2,N1])\n",
    "    for i in range (0,N2-1):\n",
    "        for j in range (0,N1-1):\n",
    "            if (i>=95 and i<=104 and j<50):\n",
    "                U[i][j] = 0.0   #pionowy\n",
    "                V[i][j] = 0.0\n",
    "            else:\n",
    "                U[i][j] = Fi[i][j+1] - Fi[i][j]   #pionowy\n",
    "                V[i][j] = -(Fi[i+1][j] - Fi[i][j])\n",
    "    \n",
    "    for j in range (0,N1):\n",
    "        U[N2-1][j] = U[N2-2][j]\n",
    "        V[N2-1][j] = V[N2-2][j]\n",
    "    \n",
    "    for i in range (0,N2):\n",
    "        U[i][N1-1]=U[i][N1-2]\n",
    "        V[i][N1-1]=V[i][N1-2]\n",
    "        \n",
    "    for j in range(0,50):\n",
    "        U[95][j] = U[94][j]\n",
    "        V[95][j] = V[94][j]\n",
    "    \n",
    "    X,Y,Y2 = [],[],[]\n",
    "\n",
    "    for i in range (95,105):\n",
    "        U[i][50] = U[i][51]\n",
    "        V[i][50] = V[i][51]\n",
    "        X.append((i+1)*0.01-1.0)\n",
    "        Y.append(0.1)\n",
    "        Y2.append(-1.0)\n",
    "    \n",
    "    plt.figure(figsize=(20.0,10.0))\n",
    "    plt.title('U(x,y) [pionowa] Q = {}'.format(Q))\n",
    "    plt.xlabel('x')\n",
    "    plt.ylabel('y')\n",
    "    #plt.axis([0,1,0,5])\n",
    "    plt.fill_between(X,Y,Y2, color = 'black')\n",
    "    plt.imshow(np.rot90(V), extent=(-1.0, 1.5, -0.4, 0.4), cmap=cm.seismic, interpolation='nearest', aspect='auto', vmin = -np.max(V),vmax=np.max(V))\n",
    "    plt.colorbar()\n",
    "    plt.show()\n",
    "\n",
    "    plt.figure(figsize=(20.0,10.0))\n",
    "    plt.title('V(x,y) [pozioma]Q = {}'.format(Q))\n",
    "    plt.xlabel('x')\n",
    "    plt.ylabel('y')\n",
    "    #plt.axis([0,1,0,5])\n",
    "    plt.fill_between(X,Y,Y2, color = 'black')\n",
    "    plt.imshow(np.rot90(U), extent=(-1.0, 1.5, -0.4, 0.4), cmap=cm.seismic, interpolation='nearest', aspect='auto', vmin = -np.max(U),vmax=np.max(U))\n",
    "    plt.colorbar()\n",
    "    plt.show()\n",
    "    \n",
    "    return 0\n",
    "    "
   ]
  },
  {
   "cell_type": "code",
   "execution_count": 3,
   "metadata": {},
   "outputs": [],
   "source": [
    "def velocity_map_lines(Fi,Q):\n",
    "    plt.figure(figsize=(20.0,10.0))\n",
    "    plt.title('$\\psi$ (Q = {})' .format(Q) )\n",
    "\n",
    "    X,Y,Y2 = [],[],[]\n",
    "\n",
    "    plt.xlabel('x')\n",
    "    plt.ylabel('y')\n",
    "    for i in range (95,105):\n",
    "        X.append(i*0.01-1.0)\n",
    "        Y.append(0.1)\n",
    "        Y2.append(-1.0)\n",
    "    plt.xlim(-1.0,1.5)\n",
    "    plt.ylim(-0.4,.4)\n",
    "    plt.fill_between(X,Y,Y2, color = 'black')\n",
    "\n",
    "    #plt.axis([0,1,0,5])\n",
    "    plt.contour(Fi.T,30,extent=(-1.0,1.5, -0.4, 0.4))\n",
    "    plt.colorbar()\n",
    "    plt.show()"
   ]
  },
  {
   "cell_type": "code",
   "execution_count": null,
   "metadata": {},
   "outputs": [
    {
     "name": "stdout",
     "output_type": "stream",
     "text": [
      "END\n",
      "END\n",
      "END\n",
      "END\n"
     ]
    }
   ],
   "source": [
    "N1 = 80 #indeks 0 tablicy odpowiada -40\n",
    "N2 = 250\n",
    "Fi0 = np.zeros([N2,N1])\n",
    "Fi1 = np.zeros([N2,N1])\n",
    "Fi2 = np.zeros([N2,N1])\n",
    "Fi3 = np.zeros([N2,N1])\n",
    "Fi4 = np.zeros([N2,N1])\n",
    "\n",
    "Fi0 = Poiseuille(-1.0)\n",
    "Fi1 = Poiseuille(-10.0)\n",
    "Fi2 = Poiseuille(-100.0)\n",
    "Fi3= Poiseuille(-200.0)\n",
    "Fi4 = Poiseuille(-400.0)\n",
    "\n",
    "\n"
   ]
  },
  {
   "cell_type": "code",
   "execution_count": null,
   "metadata": {},
   "outputs": [],
   "source": [
    "velocity_map_lines(Fi0,-1.0)"
   ]
  },
  {
   "cell_type": "code",
   "execution_count": null,
   "metadata": {},
   "outputs": [],
   "source": [
    "velocity_map_lines(Fi1,-10.0)"
   ]
  },
  {
   "cell_type": "code",
   "execution_count": null,
   "metadata": {},
   "outputs": [],
   "source": [
    "velocity_map_lines(Fi2,-100.0)"
   ]
  },
  {
   "cell_type": "code",
   "execution_count": null,
   "metadata": {},
   "outputs": [],
   "source": [
    "velocity_map_lines(Fi3,-200.0)"
   ]
  },
  {
   "cell_type": "code",
   "execution_count": null,
   "metadata": {},
   "outputs": [],
   "source": [
    "velocity_map_lines(Fi4,-400.0)"
   ]
  },
  {
   "cell_type": "code",
   "execution_count": null,
   "metadata": {},
   "outputs": [],
   "source": [
    "velocity_map(Fi0,-1.0)"
   ]
  },
  {
   "cell_type": "code",
   "execution_count": null,
   "metadata": {},
   "outputs": [],
   "source": [
    "velocity_map(Fi1,-10.0)"
   ]
  },
  {
   "cell_type": "code",
   "execution_count": null,
   "metadata": {},
   "outputs": [],
   "source": [
    "velocity_map(Fi2,-100.0)"
   ]
  },
  {
   "cell_type": "code",
   "execution_count": null,
   "metadata": {},
   "outputs": [],
   "source": [
    "velocity_map(Fi3,-200.0)"
   ]
  },
  {
   "cell_type": "code",
   "execution_count": null,
   "metadata": {},
   "outputs": [],
   "source": [
    "velocity_map(Fi4,-400.0)"
   ]
  },
  {
   "cell_type": "code",
   "execution_count": null,
   "metadata": {},
   "outputs": [],
   "source": [
    " "
   ]
  },
  {
   "cell_type": "code",
   "execution_count": null,
   "metadata": {},
   "outputs": [],
   "source": []
  },
  {
   "cell_type": "code",
   "execution_count": null,
   "metadata": {},
   "outputs": [],
   "source": []
  },
  {
   "cell_type": "code",
   "execution_count": null,
   "metadata": {},
   "outputs": [],
   "source": []
  },
  {
   "cell_type": "code",
   "execution_count": null,
   "metadata": {},
   "outputs": [],
   "source": []
  },
  {
   "cell_type": "code",
   "execution_count": null,
   "metadata": {},
   "outputs": [],
   "source": []
  }
 ],
 "metadata": {
  "kernelspec": {
   "display_name": "Python 3",
   "language": "python",
   "name": "python3"
  },
  "language_info": {
   "codemirror_mode": {
    "name": "ipython",
    "version": 3
   },
   "file_extension": ".py",
   "mimetype": "text/x-python",
   "name": "python",
   "nbconvert_exporter": "python",
   "pygments_lexer": "ipython3",
   "version": "3.7.3"
  }
 },
 "nbformat": 4,
 "nbformat_minor": 2
}
